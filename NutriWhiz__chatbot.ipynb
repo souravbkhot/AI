{
  "cells": [
    {
      "cell_type": "code",
      "execution_count": null,
      "metadata": {
        "colab": {
          "base_uri": "https://localhost:8080/"
        },
        "id": "clmH8ujeB2fI",
        "outputId": "11e5bd9d-785e-4374-f0da-df55f9c95c92"
      },
      "outputs": [
        {
          "output_type": "stream",
          "name": "stdout",
          "text": [
            "Requirement already satisfied: PyYaml==3.12 in /usr/local/lib/python3.10/dist-packages (3.12)\n"
          ]
        }
      ],
      "source": [
        "pip install -U PyYaml==3.12"
      ]
    },
    {
      "cell_type": "code",
      "execution_count": null,
      "metadata": {
        "colab": {
          "base_uri": "https://localhost:8080/"
        },
        "id": "Z9qEOiuiB7TF",
        "outputId": "83639988-beaf-4803-f0f4-8a3b7e399584"
      },
      "outputs": [
        {
          "output_type": "stream",
          "name": "stdout",
          "text": [
            "Requirement already satisfied: ChatterBot==1.0.4 in /usr/local/lib/python3.10/dist-packages (1.0.4)\n",
            "Requirement already satisfied: chatterbot-corpus<1.3,>=1.2 in /usr/local/lib/python3.10/dist-packages (from ChatterBot==1.0.4) (1.2.0)\n",
            "Requirement already satisfied: mathparse<0.2,>=0.1 in /usr/local/lib/python3.10/dist-packages (from ChatterBot==1.0.4) (0.1.2)\n",
            "Requirement already satisfied: nltk<4.0,>=3.2 in /usr/local/lib/python3.10/dist-packages (from ChatterBot==1.0.4) (3.8.1)\n",
            "Requirement already satisfied: pymongo<4.0,>=3.3 in /usr/local/lib/python3.10/dist-packages (from ChatterBot==1.0.4) (3.13.0)\n",
            "Requirement already satisfied: python-dateutil<2.8,>=2.7 in /usr/local/lib/python3.10/dist-packages (from ChatterBot==1.0.4) (2.7.5)\n",
            "Requirement already satisfied: sqlalchemy<1.3,>=1.2 in /usr/local/lib/python3.10/dist-packages (from ChatterBot==1.0.4) (1.2.19)\n",
            "Requirement already satisfied: pint>=0.8.1 in /usr/local/lib/python3.10/dist-packages (from ChatterBot==1.0.4) (0.22)\n",
            "Requirement already satisfied: PyYAML<4.0,>=3.12 in /usr/local/lib/python3.10/dist-packages (from chatterbot-corpus<1.3,>=1.2->ChatterBot==1.0.4) (3.12)\n",
            "Requirement already satisfied: click in /usr/local/lib/python3.10/dist-packages (from nltk<4.0,>=3.2->ChatterBot==1.0.4) (8.1.6)\n",
            "Requirement already satisfied: joblib in /usr/local/lib/python3.10/dist-packages (from nltk<4.0,>=3.2->ChatterBot==1.0.4) (1.3.1)\n",
            "Requirement already satisfied: regex>=2021.8.3 in /usr/local/lib/python3.10/dist-packages (from nltk<4.0,>=3.2->ChatterBot==1.0.4) (2022.10.31)\n",
            "Requirement already satisfied: tqdm in /usr/local/lib/python3.10/dist-packages (from nltk<4.0,>=3.2->ChatterBot==1.0.4) (4.65.0)\n",
            "Requirement already satisfied: typing-extensions in /usr/local/lib/python3.10/dist-packages (from pint>=0.8.1->ChatterBot==1.0.4) (4.7.1)\n",
            "Requirement already satisfied: six>=1.5 in /usr/local/lib/python3.10/dist-packages (from python-dateutil<2.8,>=2.7->ChatterBot==1.0.4) (1.16.0)\n"
          ]
        }
      ],
      "source": [
        "!pip install ChatterBot==1.0.4"
      ]
    },
    {
      "cell_type": "code",
      "execution_count": null,
      "metadata": {
        "colab": {
          "base_uri": "https://localhost:8080/"
        },
        "id": "92BMZ4e_B-2D",
        "outputId": "abefe918-cf62-4b07-815d-49ed1ee7f131"
      },
      "outputs": [
        {
          "output_type": "stream",
          "name": "stdout",
          "text": [
            "Requirement already satisfied: fuzzywuzzy in /usr/local/lib/python3.10/dist-packages (0.18.0)\n"
          ]
        }
      ],
      "source": [
        "pip install fuzzywuzzy"
      ]
    },
    {
      "cell_type": "code",
      "execution_count": null,
      "metadata": {
        "id": "hjWM6HYDCDW9"
      },
      "outputs": [],
      "source": [
        "import collections.abc\n",
        "collections.Hashable = collections.abc.Hashable\n",
        "from chatterbot import ChatBot\n",
        "from chatterbot.trainers import ListTrainer\n",
        "import nltk\n",
        "from fuzzywuzzy import fuzz\n",
        "from fuzzywuzzy import process"
      ]
    },
    {
      "cell_type": "code",
      "execution_count": null,
      "metadata": {
        "colab": {
          "base_uri": "https://localhost:8080/"
        },
        "id": "qAGUurFZCHMn",
        "outputId": "a7c5192b-befc-4e00-c5c6-890ad00b79d3"
      },
      "outputs": [
        {
          "output_type": "stream",
          "name": "stderr",
          "text": [
            "[nltk_data] Downloading package averaged_perceptron_tagger to\n",
            "[nltk_data]     /root/nltk_data...\n",
            "[nltk_data]   Package averaged_perceptron_tagger is already up-to-\n",
            "[nltk_data]       date!\n",
            "[nltk_data] Downloading package punkt to /root/nltk_data...\n",
            "[nltk_data]   Package punkt is already up-to-date!\n",
            "[nltk_data] Downloading package stopwords to /root/nltk_data...\n",
            "[nltk_data]   Package stopwords is already up-to-date!\n"
          ]
        }
      ],
      "source": [
        "# Create a new chatbot\n",
        "chatbot = ChatBot('NutriWhiz')\n",
        "\n",
        "# Define the initial knowledge base\n",
        "knowledge_base = [\n",
        "    {\"question\": \"hi|hey|hello\", \"answer\": \"Hello! How can I help you?\"},\n",
        "    {\"question\": \"quit|bye|by\", \"answer\": \"bye!,Have a good day\"},\n",
        "    {\"question\": \"What is a healthy diet?\", \"answer\": \"A healthy diet includes a balanced mix of fruits, vegetables, whole grains, lean proteins, and healthy fats.\"},\n",
        "    {\"question\": \"Why is it important to eat fruits and vegetables?\", \"answer\": \"Fruits and vegetables are packed with essential vitamins, minerals, and fiber that are important for overall health and well-being.\"},\n",
        "    {\"question\": \"What are some examples of whole grains?\", \"answer\": \"Examples of whole grains include brown rice, quinoa, oats, whole wheat bread, and whole grain pasta.\"},\n",
        "    {\"question\": \"What are lean proteins?\", \"answer\": \"Lean proteins include chicken, turkey, fish, tofu, beans, and legumes. These provide essential amino acids without excessive amounts of fat.\"},\n",
        "    {\"question\": \"Why are healthy fats important?\", \"answer\": \"Healthy fats, such as those found in avocados, nuts, seeds, and olive oil, are beneficial for heart health and help with the absorption of fat-soluble vitamins.\"},\n",
        "    {\"question\": \"How can I incorporate more vegetables into my diet?\", \"answer\": \"You can try adding vegetables to your salads, stir-fries, soups, or enjoy them as snacks with hummus or yogurt-based dips.\"},\n",
        "    {\"question\": \"Is it necessary to avoid all types of fats?\", \"answer\": \"No, not all fats are bad. It's important to choose healthy fats like avocados, nuts, and olive oil in moderation.\"},\n",
        "    {\"question\": \"What are some examples of unhealthy fats?\", \"answer\": \"Unhealthy fats include saturated fats found in fried foods, fatty cuts of meat, full-fat dairy products, and trans fats found in processed snacks and baked goods.\"},\n",
        "    {\"question\": \"What are the benefits of drinking water?\", \"answer\": \"Drinking water helps to hydrate the body, maintain proper organ function, support digestion, and promote healthy skin.\"},\n",
        "    {\"question\": \"How can I reduce my sugar intake?\", \"answer\": \"You can reduce sugar intake by limiting sugary drinks, avoiding processed foods, and opting for natural sweeteners like fruits or using spices like cinnamon for flavor.\"},\n",
        "    {\"question\": \"Are all processed foods unhealthy?\", \"answer\": \"Not all processed foods are unhealthy. Look for minimally processed options like canned beans or frozen fruits and vegetables without added sugars or preservatives.\"},\n",
        "    {\"question\": \"How can I make healthier food choices when eating out?\", \"answer\": \"You can opt for grilled or steamed dishes, choose salads or vegetable-based sides, and control portion sizes. Also, be mindful of sauces and dressings that can add extra calories.\"},\n",
        "    {\"question\": \"Why is breakfast considered an important meal?\", \"answer\": \"Breakfast provides the necessary energy to start your day, kick-starts your metabolism, and helps with better concentration and focus.\"},\n",
        "    {\"question\": \"What are some healthy snack options?\", \"answer\": \"Healthy snack options include fruits, raw nuts, yogurt, hummus with veggies, or homemade energy bars with natural ingredients.\"},\n",
        "    {\"question\": \"What are the benefits of regular exercise?\", \"answer\": \"Regular exercise helps maintain a healthy weight, strengthens muscles and bones, improves cardiovascular health, and boosts mood and mental well-being.\"},\n",
        "    {\"question\": \"How can I plan and prepare healthy meals?\", \"answer\": \"You can plan your meals by including a variety of foods from different food groups, preparing meals in advance, and having healthy ingredients readily available.\"},\n",
        "    {\"question\": \"Why is it important to read food labels?\", \"answer\": \"Reading food labels helps you identify the nutritional content of packaged foods, including the amount of added sugars, unhealthy fats, and other ingredients.\"},\n",
        "    {\"question\": \"What are some tips for maintaining a healthy lifestyle?\", \"answer\": \"Some tips include regular physical activity, balanced and nutritious meals, adequate sleep, stress management, and staying hydrated.\"},\n",
        "    {\"question\": \"Can you recommend some healthy recipe websites?\", \"answer\": \"Sure! Some popular healthy recipe websites include EatingWell, BBC Good Food, Skinnytaste, and Minimalist Baker.\"},\n",
        "    {\"question\": \"(.*)\", \"answer\": \"I apologize, but I'm unable to analyze images or provide this type of information. For more information you can connect with our nutrition \"},\n",
        "      ]\n"
      ]
    },
    {
      "cell_type": "code",
      "execution_count": null,
      "metadata": {
        "colab": {
          "base_uri": "https://localhost:8080/"
        },
        "id": "MO0eK50PCMGN",
        "outputId": "b91b7119-33fa-427e-b7b8-fce6fcbeab7b"
      },
      "outputs": [
        {
          "output_type": "stream",
          "name": "stdout",
          "text": [
            "NutriWhiz: Hello! I am the NutriWhiz Bot. How can I assist you today?\n",
            "List Trainer: [####################] 100%\n",
            "List Trainer: [####################] 100%\n",
            "List Trainer: [####################] 100%\n",
            "List Trainer: [####################] 100%\n",
            "List Trainer: [####################] 100%\n",
            "List Trainer: [####################] 100%\n",
            "List Trainer: [####################] 100%\n",
            "List Trainer: [####################] 100%\n",
            "List Trainer: [####################] 100%\n",
            "List Trainer: [####################] 100%\n",
            "List Trainer: [####################] 100%\n",
            "List Trainer: [####################] 100%\n",
            "List Trainer: [####################] 100%\n",
            "List Trainer: [####################] 100%\n",
            "List Trainer: [####################] 100%\n",
            "List Trainer: [####################] 100%\n",
            "List Trainer: [####################] 100%\n",
            "List Trainer: [####################] 100%\n",
            "List Trainer: [####################] 100%\n",
            "List Trainer: [####################] 100%\n",
            "List Trainer: [####################] 100%\n",
            "List Trainer: [####################] 100%\n",
            "User: hii\n",
            "NutriWhiz: Hello! How can I assist you today?\n",
            "User: tell me about lean protein\n",
            "NutriWhiz: Lean proteins include chicken, turkey, fish, tofu, beans, and legumes. These provide essential amino acids without excessive amounts of fat.\n",
            "NutriWhiz: Do you have any further questions? (Type 'yes' or 'no') yes\n",
            "User: tell me plan of healthy meals\n",
            "NutriWhiz: You can plan your meals by including a variety of foods from different food groups, preparing meals in advance, and having healthy ingredients readily available.\n",
            "NutriWhiz: Do you have any further questions? (Type 'yes' or 'no') no\n",
            "NutriWhiz: Goodbye! Have a nice day.\n"
          ]
        }
      ],
      "source": [
        "# Training  the chatbot with knowledge base\n",
        "def train_chatbot(knowledge_base, chatbot):\n",
        "    trainer = ListTrainer(chatbot)\n",
        "    for qa_pair in knowledge_base:\n",
        "        trainer.train([qa_pair[\"question\"], qa_pair[\"answer\"]])\n",
        "\n",
        "\n",
        "# Define a function to find the best matching answer to get optimal answer for question\n",
        "def find_best_match(question, knowledge_base):\n",
        "    best_match, score = process.extractOne(question, [qa_pair[\"question\"] for qa_pair in knowledge_base], scorer=fuzz.token_set_ratio)\n",
        "    if score >= 50:  # Threshold is set to 80 that means if 80% of text matches the knowledge base then that answer will be provided to user\n",
        "        for qa_pair in knowledge_base:\n",
        "            if qa_pair[\"question\"] == best_match:\n",
        "                return qa_pair[\"answer\"]\n",
        "    return \"Sorry, I'm not sure about that.\"\n",
        "\n",
        "\n",
        "# Introduction and greeting\n",
        "print(\"NutriWhiz: Hello! I am the NutriWhiz Bot. How can I assist you today?\")\n",
        "\n",
        "# Interactive chat with the user\n",
        "def chat_with_bot():\n",
        "    while True:\n",
        "        user_input = input(\"User: \")\n",
        "\n",
        "        # Check if the user wants to exit\n",
        "        if user_input.lower() in [\"no\", \"exit\"]:\n",
        "            print(\"NutriWhiz: Goodbye! Have a nice day.\")\n",
        "            break\n",
        "\n",
        "        # Check if the user greets the bot\n",
        "        if any(greeting in user_input.lower() for greeting in [\"hello\", \"hi\", \"hey\"]):\n",
        "            print(\"NutriWhiz: Hello! How can I assist you today?\")\n",
        "            continue\n",
        "\n",
        "        response = find_best_match(user_input, knowledge_base)\n",
        "\n",
        "        if response == \"Sorry, I'm not sure about that.\":\n",
        "            print(\"NutriWhiz:\", response)\n",
        "        else:\n",
        "            print(\"NutriWhiz:\", response)\n",
        "\n",
        "        further_question = input(\"NutriWhiz: Do you have any further questions? (Type 'yes' or 'no') \")\n",
        "        while further_question.lower() not in [\"yes\", \"no\"]:\n",
        "            print(\"NutriWhiz: Please provide a valid input. (Type 'yes' or 'no')\")\n",
        "            further_question = input(\"ENutriWhiz: Do you have any further questions? (Type 'yes' or 'no') \")\n",
        "\n",
        "        if further_question.lower() == \"no\":\n",
        "            print(\"NutriWhiz: Goodbye! Have a nice day.\")\n",
        "            break\n",
        "\n",
        "# Train the chatbot\n",
        "train_chatbot(knowledge_base, chatbot)\n",
        "\n",
        "# Start the chat\n",
        "chat_with_bot()"
      ]
    },
    {
      "cell_type": "code",
      "execution_count": null,
      "metadata": {
        "id": "FXNBYUH_CZ6d"
      },
      "outputs": [],
      "source": []
    }
  ],
  "metadata": {
    "colab": {
      "provenance": []
    },
    "kernelspec": {
      "display_name": "Python 3",
      "name": "python3"
    },
    "language_info": {
      "name": "python"
    }
  },
  "nbformat": 4,
  "nbformat_minor": 0
}